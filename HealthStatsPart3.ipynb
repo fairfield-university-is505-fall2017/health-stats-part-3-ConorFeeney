{
 "cells": [
  {
   "cell_type": "markdown",
   "metadata": {},
   "source": [
    "# Health Stats Part 2: Waist 2 Hip Ratios"
   ]
  },
  {
   "cell_type": "markdown",
   "metadata": {},
   "source": [
    "<!--- Write an explanation of the Waist To Hips Ratio statistic used by health professionals. Please include an explanation of what it is used for, exactly how it is calculated, and how to interpret the results. Note: Formmatting matters. Make this as professional as you can using Markdown.  --->\n",
    "EDIT THIS MARKDOWN CELL"
   ]
  },
  {
   "cell_type": "markdown",
   "metadata": {},
   "source": [
    "## Source Data "
   ]
  },
  {
   "cell_type": "markdown",
   "metadata": {},
   "source": [
    "<!--- Replace the text below with a Markdown bullet list that defines the columns of the CSV file. Be sure to indicate the data type for each column. --->\n",
    "EDIT THIS MARKDOWN CELL"
   ]
  },
  {
   "cell_type": "markdown",
   "metadata": {},
   "source": [
    "## Data Import"
   ]
  },
  {
   "cell_type": "code",
   "execution_count": 176,
   "metadata": {},
   "outputs": [],
   "source": [
    "# Goal: Extract the data from the file\n",
    "import numpy as np\n",
    "\n",
    "#Created using a recarray as it enables us to use the rows[:].ColumnName functionaility\n",
    "rows=np.recfromcsv('w2h_data.csv',dtype=(\"i8\",\"i8\",\"i8\",\"U5\"))\n",
    "#rows=np.genfromtxt('w2h_data.csv',delimiter=\",\",skip_header=1,dtype=[(\"ID\",\"i8\"),(\"Waist\",\"i8\"),(\"Hip\",\"i8\"),(\"Gender\",\"U10\")])\n",
    "\n",
    "\n"
   ]
  },
  {
   "cell_type": "code",
   "execution_count": null,
   "metadata": {
    "collapsed": true
   },
   "outputs": [],
   "source": []
  },
  {
   "cell_type": "markdown",
   "metadata": {},
   "source": [
    "## Calculations"
   ]
  },
  {
   "cell_type": "code",
   "execution_count": 177,
   "metadata": {},
   "outputs": [],
   "source": [
    "# Goal: For each row of data calculate and store the w2h_ratio and shape.\n",
    "#Create array for w2h_ratio\n",
    "w2h_ratio=np.rec.array(rows[:].waist/rows[:].hip,dtype=(\"f8\"))\n",
    "\n",
    "#Create the shape array using logical and and logical or\n",
    "shape=np.rec.array(np.logical_or(np.logical_and(w2h_ratio>0.9,rows[:].gender==\"M\"),np.logical_and(w2h_ratio>0.8,rows[:].gender==\"F\")))\n",
    "\n",
    "shape=np.where(shape,\"apple\",\"pear\")\n",
    "\n",
    "\n",
    "test=np.c_[rows[:].id,rows[:].waist,rows[:].hip,rows[:].gender,w2h_ratio,shape]\n",
    "#test.dtype=([(\"ID\",\"i8\"),(\"Waist\",\"i8\"),(\"Hip\",\"i8\"),(\"Gender\",\"U10\"),(\"w2h_ratio\",\"f8\"),(\"Shape\",\"U10\")])\n",
    "\n",
    "#You can \"create a record array from a (flat) list of arrays\" using numpy.core.records.fromarrays\n",
    "rows=np.core.records.fromarrays(test.transpose(),names='ID, Waist, Hip, Gender, w2h_ratio, Shape',formats = 'i8, i8, i8, U10, f8, U10')\n",
    "#it considered each column (instead of each row) in the 2-D array as a record. So you have to transpose it.\n",
    "\n",
    "\n",
    "#w2h_ratio=np.rec.array(w2h_ratio,dtype=[(\"w2h_ratio\",float)])\n",
    "#test1=np.rec.array(test,dtype=[(\"ID\",\"i8\"),(\"Waist\",\"i8\"),(\"Hip\",\"i8\"),(\"Gender\",\"U10\"),(\"w2h_ratio\",\"f8\"),(\"Shape\",\"U10\")])\n",
    "#shape=np.array(shape,dtype=[(\"shape\",\"U10\")])\n",
    "#test=np.column_stack([rows,shape1])\n",
    "#test\n"
   ]
  },
  {
   "cell_type": "markdown",
   "metadata": {},
   "source": [
    "## Output"
   ]
  },
  {
   "cell_type": "code",
   "execution_count": 188,
   "metadata": {},
   "outputs": [
    {
     "name": "stdout",
     "output_type": "stream",
     "text": [
      "('ID', 'Waist', 'Hip', 'Gender', 'w2h_ratio', 'Shape')\n",
      "[{'ID': 1, 'Waist': 30, 'Hip': 32, 'Gender': 'M', 'w2h_ratio': 0.9375, 'Shape': 'apple'}, {'ID': 2, 'Waist': 32, 'Hip': 37, 'Gender': 'M', 'w2h_ratio': 0.86486486486486491, 'Shape': 'pear'}, {'ID': 3, 'Waist': 30, 'Hip': 36, 'Gender': 'M', 'w2h_ratio': 0.83333333333333337, 'Shape': 'pear'}, {'ID': 4, 'Waist': 33, 'Hip': 39, 'Gender': 'M', 'w2h_ratio': 0.84615384615384615, 'Shape': 'pear'}, {'ID': 5, 'Waist': 29, 'Hip': 33, 'Gender': 'M', 'w2h_ratio': 0.87878787878787878, 'Shape': 'pear'}, {'ID': 6, 'Waist': 32, 'Hip': 38, 'Gender': 'M', 'w2h_ratio': 0.84210526315789469, 'Shape': 'pear'}, {'ID': 7, 'Waist': 33, 'Hip': 42, 'Gender': 'M', 'w2h_ratio': 0.7857142857142857, 'Shape': 'pear'}, {'ID': 8, 'Waist': 30, 'Hip': 40, 'Gender': 'M', 'w2h_ratio': 0.75, 'Shape': 'pear'}, {'ID': 9, 'Waist': 30, 'Hip': 37, 'Gender': 'M', 'w2h_ratio': 0.81081081081081086, 'Shape': 'pear'}, {'ID': 10, 'Waist': 32, 'Hip': 39, 'Gender': 'M', 'w2h_ratio': 0.82051282051282048, 'Shape': 'pear'}, {'ID': 11, 'Waist': 24, 'Hip': 35, 'Gender': 'F', 'w2h_ratio': 0.68571428571428572, 'Shape': 'pear'}, {'ID': 12, 'Waist': 25, 'Hip': 37, 'Gender': 'F', 'w2h_ratio': 0.67567567567567566, 'Shape': 'pear'}, {'ID': 13, 'Waist': 24, 'Hip': 37, 'Gender': 'F', 'w2h_ratio': 0.64864864864864868, 'Shape': 'pear'}, {'ID': 14, 'Waist': 22, 'Hip': 34, 'Gender': 'F', 'w2h_ratio': 0.6470588235294118, 'Shape': 'pear'}, {'ID': 15, 'Waist': 26, 'Hip': 38, 'Gender': 'F', 'w2h_ratio': 0.68421052631578949, 'Shape': 'pear'}, {'ID': 16, 'Waist': 26, 'Hip': 37, 'Gender': 'F', 'w2h_ratio': 0.70270270270270274, 'Shape': 'pear'}, {'ID': 17, 'Waist': 25, 'Hip': 38, 'Gender': 'F', 'w2h_ratio': 0.65789473684210531, 'Shape': 'pear'}, {'ID': 18, 'Waist': 26, 'Hip': 37, 'Gender': 'F', 'w2h_ratio': 0.70270270270270274, 'Shape': 'pear'}, {'ID': 19, 'Waist': 28, 'Hip': 40, 'Gender': 'F', 'w2h_ratio': 0.69999999999999996, 'Shape': 'pear'}, {'ID': 20, 'Waist': 23, 'Hip': 35, 'Gender': 'F', 'w2h_ratio': 0.65714285714285714, 'Shape': 'pear'}]\n"
     ]
    },
    {
     "data": {
      "text/html": [
       "<table><tr><th>ID</th><th>Waist</th><th>Hip</th><th>Gender</th><th>w2h_ratio</th><th>Shape</th></tr><tr><td>1</td><td>30</td><td>32</td><td>M</td><td>0.9375</td><td>apple</td></tr><tr><td>2</td><td>32</td><td>37</td><td>M</td><td>0.864864864865</td><td>pear</td></tr><tr><td>3</td><td>30</td><td>36</td><td>M</td><td>0.833333333333</td><td>pear</td></tr><tr><td>4</td><td>33</td><td>39</td><td>M</td><td>0.846153846154</td><td>pear</td></tr><tr><td>5</td><td>29</td><td>33</td><td>M</td><td>0.878787878788</td><td>pear</td></tr><tr><td>6</td><td>32</td><td>38</td><td>M</td><td>0.842105263158</td><td>pear</td></tr><tr><td>7</td><td>33</td><td>42</td><td>M</td><td>0.785714285714</td><td>pear</td></tr><tr><td>8</td><td>30</td><td>40</td><td>M</td><td>0.75</td><td>pear</td></tr><tr><td>9</td><td>30</td><td>37</td><td>M</td><td>0.810810810811</td><td>pear</td></tr><tr><td>10</td><td>32</td><td>39</td><td>M</td><td>0.820512820513</td><td>pear</td></tr><tr><td>11</td><td>24</td><td>35</td><td>F</td><td>0.685714285714</td><td>pear</td></tr><tr><td>12</td><td>25</td><td>37</td><td>F</td><td>0.675675675676</td><td>pear</td></tr><tr><td>13</td><td>24</td><td>37</td><td>F</td><td>0.648648648649</td><td>pear</td></tr><tr><td>14</td><td>22</td><td>34</td><td>F</td><td>0.647058823529</td><td>pear</td></tr><tr><td>15</td><td>26</td><td>38</td><td>F</td><td>0.684210526316</td><td>pear</td></tr><tr><td>16</td><td>26</td><td>37</td><td>F</td><td>0.702702702703</td><td>pear</td></tr><tr><td>17</td><td>25</td><td>38</td><td>F</td><td>0.657894736842</td><td>pear</td></tr><tr><td>18</td><td>26</td><td>37</td><td>F</td><td>0.702702702703</td><td>pear</td></tr><tr><td>19</td><td>28</td><td>40</td><td>F</td><td>0.7</td><td>pear</td></tr><tr><td>20</td><td>23</td><td>35</td><td>F</td><td>0.657142857143</td><td>pear</td></tr>"
      ],
      "text/plain": [
       "<IPython.core.display.HTML object>"
      ]
     },
     "metadata": {},
     "output_type": "display_data"
    },
    {
     "ename": "TypeError",
     "evalue": "Mismatch between array dtype ('(numpy.record, [('ID', '<i8'), ('Waist', '<i8'), ('Hip', '<i8'), ('Gender', '<U10'), ('w2h_ratio', '<f8'), ('Shape', '<U10')])') and format specifier ('%.18e,%.18e,%.18e,%.18e,%.18e,%.18e')",
     "output_type": "error",
     "traceback": [
      "\u001b[1;31m---------------------------------------------------------------------------\u001b[0m",
      "\u001b[1;31mTypeError\u001b[0m                                 Traceback (most recent call last)",
      "\u001b[1;32mC:\\Users\\conor\\Anaconda3\\lib\\site-packages\\numpy\\lib\\npyio.py\u001b[0m in \u001b[0;36msavetxt\u001b[1;34m(fname, X, fmt, delimiter, newline, header, footer, comments)\u001b[0m\n\u001b[0;32m   1253\u001b[0m                 \u001b[1;32mtry\u001b[0m\u001b[1;33m:\u001b[0m\u001b[1;33m\u001b[0m\u001b[0m\n\u001b[1;32m-> 1254\u001b[1;33m                     \u001b[0mfh\u001b[0m\u001b[1;33m.\u001b[0m\u001b[0mwrite\u001b[0m\u001b[1;33m(\u001b[0m\u001b[0masbytes\u001b[0m\u001b[1;33m(\u001b[0m\u001b[0mformat\u001b[0m \u001b[1;33m%\u001b[0m \u001b[0mtuple\u001b[0m\u001b[1;33m(\u001b[0m\u001b[0mrow\u001b[0m\u001b[1;33m)\u001b[0m \u001b[1;33m+\u001b[0m \u001b[0mnewline\u001b[0m\u001b[1;33m)\u001b[0m\u001b[1;33m)\u001b[0m\u001b[1;33m\u001b[0m\u001b[0m\n\u001b[0m\u001b[0;32m   1255\u001b[0m                 \u001b[1;32mexcept\u001b[0m \u001b[0mTypeError\u001b[0m\u001b[1;33m:\u001b[0m\u001b[1;33m\u001b[0m\u001b[0m\n",
      "\u001b[1;31mTypeError\u001b[0m: must be real number, not numpy.str_",
      "\nDuring handling of the above exception, another exception occurred:\n",
      "\u001b[1;31mTypeError\u001b[0m                                 Traceback (most recent call last)",
      "\u001b[1;32m<ipython-input-188-7178cd6b8ee0>\u001b[0m in \u001b[0;36m<module>\u001b[1;34m()\u001b[0m\n\u001b[0;32m     21\u001b[0m \u001b[0mdisplay\u001b[0m\u001b[1;33m(\u001b[0m\u001b[0mHTML\u001b[0m\u001b[1;33m(\u001b[0m\u001b[0mhtml_table\u001b[0m\u001b[1;33m)\u001b[0m\u001b[1;33m)\u001b[0m\u001b[1;33m\u001b[0m\u001b[0m\n\u001b[0;32m     22\u001b[0m \u001b[1;33m\u001b[0m\u001b[0m\n\u001b[1;32m---> 23\u001b[1;33m \u001b[0mnp\u001b[0m\u001b[1;33m.\u001b[0m\u001b[0msavetxt\u001b[0m\u001b[1;33m(\u001b[0m\u001b[1;34m\"StatsResults.csv\"\u001b[0m\u001b[1;33m,\u001b[0m\u001b[0mrows\u001b[0m\u001b[1;33m[\u001b[0m\u001b[1;33m:\u001b[0m\u001b[1;33m]\u001b[0m\u001b[1;33m,\u001b[0m\u001b[0mdelimiter\u001b[0m\u001b[1;33m=\u001b[0m\u001b[1;34m','\u001b[0m\u001b[1;33m)\u001b[0m\u001b[1;33m\u001b[0m\u001b[0m\n\u001b[0m",
      "\u001b[1;32mC:\\Users\\conor\\Anaconda3\\lib\\site-packages\\numpy\\lib\\npyio.py\u001b[0m in \u001b[0;36msavetxt\u001b[1;34m(fname, X, fmt, delimiter, newline, header, footer, comments)\u001b[0m\n\u001b[0;32m   1256\u001b[0m                     raise TypeError(\"Mismatch between array dtype ('%s') and \"\n\u001b[0;32m   1257\u001b[0m                                     \u001b[1;34m\"format specifier ('%s')\"\u001b[0m\u001b[1;33m\u001b[0m\u001b[0m\n\u001b[1;32m-> 1258\u001b[1;33m                                     % (str(X.dtype), format))\n\u001b[0m\u001b[0;32m   1259\u001b[0m         \u001b[1;32mif\u001b[0m \u001b[0mlen\u001b[0m\u001b[1;33m(\u001b[0m\u001b[0mfooter\u001b[0m\u001b[1;33m)\u001b[0m \u001b[1;33m>\u001b[0m \u001b[1;36m0\u001b[0m\u001b[1;33m:\u001b[0m\u001b[1;33m\u001b[0m\u001b[0m\n\u001b[0;32m   1260\u001b[0m             \u001b[0mfooter\u001b[0m \u001b[1;33m=\u001b[0m \u001b[0mfooter\u001b[0m\u001b[1;33m.\u001b[0m\u001b[0mreplace\u001b[0m\u001b[1;33m(\u001b[0m\u001b[1;34m'\\n'\u001b[0m\u001b[1;33m,\u001b[0m \u001b[1;34m'\\n'\u001b[0m \u001b[1;33m+\u001b[0m \u001b[0mcomments\u001b[0m\u001b[1;33m)\u001b[0m\u001b[1;33m\u001b[0m\u001b[0m\n",
      "\u001b[1;31mTypeError\u001b[0m: Mismatch between array dtype ('(numpy.record, [('ID', '<i8'), ('Waist', '<i8'), ('Hip', '<i8'), ('Gender', '<U10'), ('w2h_ratio', '<f8'), ('Shape', '<U10')])') and format specifier ('%.18e,%.18e,%.18e,%.18e,%.18e,%.18e')"
     ]
    }
   ],
   "source": [
    "# Goal: pretty print the rows as an HTML table\n",
    "names=rows.dtype.names\n",
    "print(names)\n",
    "rows_list=[]\n",
    "for i in range(20):\n",
    "    my_dict=dict(zip(names,rows[i]))\n",
    "    rows_list.append(my_dict)\n",
    "print(rows_list)\n",
    "\n",
    "# Note: this works, but we can do this much better with pandas\n",
    "html_table = '<table><tr><th>'\n",
    "html_table += \"</th><th>\".join(rows.dtype.names)\n",
    "html_table += '</th></tr>'\n",
    "for row in rows_list:\n",
    "    html_table += \"<tr><td>\"\n",
    "    html_table += \"</td><td>\".join(str(i) for i in row.values())\n",
    "    html_table += \"</td></tr>\"\n",
    "#html_table += \"</table>\"\n",
    "\n",
    "from IPython.display import HTML, display\n",
    "display(HTML(html_table))\n",
    "\n",
    "np.savetxt(\"StatsResults.csv\",rows[:],delimiter=',')"
   ]
  },
  {
   "cell_type": "code",
   "execution_count": null,
   "metadata": {
    "collapsed": true
   },
   "outputs": [],
   "source": []
  }
 ],
 "metadata": {
  "kernelspec": {
   "display_name": "Python 3",
   "language": "python",
   "name": "python3"
  },
  "language_info": {
   "codemirror_mode": {
    "name": "ipython",
    "version": 3
   },
   "file_extension": ".py",
   "mimetype": "text/x-python",
   "name": "python",
   "nbconvert_exporter": "python",
   "pygments_lexer": "ipython3",
   "version": "3.6.1"
  }
 },
 "nbformat": 4,
 "nbformat_minor": 2
}
