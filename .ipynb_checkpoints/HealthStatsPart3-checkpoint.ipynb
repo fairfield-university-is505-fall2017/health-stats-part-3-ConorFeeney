{
 "cells": [
  {
   "cell_type": "markdown",
   "metadata": {},
   "source": [
    "# Health Stats Part 2: Waist 2 Hip Ratios"
   ]
  },
  {
   "cell_type": "markdown",
   "metadata": {},
   "source": [
    "<!--- Write an explanation of the Waist To Hips Ratio statistic used by health professionals. Please include an explanation of what it is used for, exactly how it is calculated, and how to interpret the results. Note: Formmatting matters. Make this as professional as you can using Markdown.  --->\n",
    "EDIT THIS MARKDOWN CELL"
   ]
  },
  {
   "cell_type": "markdown",
   "metadata": {},
   "source": [
    "## Source Data "
   ]
  },
  {
   "cell_type": "markdown",
   "metadata": {},
   "source": [
    "<!--- Replace the text below with a Markdown bullet list that defines the columns of the CSV file. Be sure to indicate the data type for each column. --->\n",
    "EDIT THIS MARKDOWN CELL"
   ]
  },
  {
   "cell_type": "markdown",
   "metadata": {},
   "source": [
    "## Data Import"
   ]
  },
  {
   "cell_type": "code",
   "execution_count": 194,
   "metadata": {},
   "outputs": [
    {
     "data": {
      "text/plain": [
       "(20,)"
      ]
     },
     "execution_count": 194,
     "metadata": {},
     "output_type": "execute_result"
    }
   ],
   "source": [
    "# Goal: Extract the data from the file\n",
    "import numpy as np\n",
    "\n",
    "#Created using a recarray as it enables us to use the rows[:].ColumnName functionaility\n",
    "rows=np.recfromcsv('w2h_data.csv',dtype=(\"i8\",\"i8\",\"i8\",\"U5\"))\n",
    "#rows=np.genfromtxt('w2h_data.csv',delimiter=\",\",skip_header=1,dtype=[(\"ID\",\"i8\"),(\"Waist\",\"i8\"),(\"Hip\",\"i8\"),(\"Gender\",\"U10\")])\n",
    "rows.shape\n",
    "\n"
   ]
  },
  {
   "cell_type": "code",
   "execution_count": null,
   "metadata": {
    "collapsed": true
   },
   "outputs": [],
   "source": []
  },
  {
   "cell_type": "markdown",
   "metadata": {},
   "source": [
    "## Calculations"
   ]
  },
  {
   "cell_type": "code",
   "execution_count": 195,
   "metadata": {},
   "outputs": [],
   "source": [
    "# Goal: For each row of data calculate and store the w2h_ratio and shape.\n",
    "#Create array for w2h_ratio\n",
    "w2h_ratio=np.rec.array(rows[:].waist/rows[:].hip,dtype=(\"f8\"))\n",
    "\n",
    "#Create the shape array using logical and and logical or\n",
    "shape=np.rec.array(np.logical_or(np.logical_and(w2h_ratio>0.9,rows[:].gender==\"M\"),np.logical_and(w2h_ratio>0.8,rows[:].gender==\"F\")))\n",
    "\n",
    "shape=np.where(shape,\"apple\",\"pear\")\n",
    "\n",
    "\n",
    "test=np.c_[rows[:].id,rows[:].waist,rows[:].hip,rows[:].gender,w2h_ratio,shape]\n",
    "#test.dtype=([(\"ID\",\"i8\"),(\"Waist\",\"i8\"),(\"Hip\",\"i8\"),(\"Gender\",\"U10\"),(\"w2h_ratio\",\"f8\"),(\"Shape\",\"U10\")])\n",
    "\n",
    "#You can \"create a record array from a (flat) list of arrays\" using numpy.core.records.fromarrays\n",
    "rows=np.core.records.fromarrays(test.transpose(),names='ID, Waist, Hip, Gender, w2h_ratio, Shape',formats = 'i8, i8, i8, U10, f8, U10')\n",
    "#it considered each column (instead of each row) in the 2-D array as a record. So you have to transpose it.\n",
    "\n",
    "\n",
    "#w2h_ratio=np.rec.array(w2h_ratio,dtype=[(\"w2h_ratio\",float)])\n",
    "#test1=np.rec.array(test,dtype=[(\"ID\",\"i8\"),(\"Waist\",\"i8\"),(\"Hip\",\"i8\"),(\"Gender\",\"U10\"),(\"w2h_ratio\",\"f8\"),(\"Shape\",\"U10\")])\n",
    "#shape=np.array(shape,dtype=[(\"shape\",\"U10\")])\n",
    "#test=np.column_stack([rows,shape1])\n",
    "#test\n"
   ]
  },
  {
   "cell_type": "markdown",
   "metadata": {},
   "source": [
    "## Output"
   ]
  },
  {
   "cell_type": "code",
   "execution_count": 204,
   "metadata": {},
   "outputs": [
    {
     "name": "stdout",
     "output_type": "stream",
     "text": [
      "('ID', 'Waist', 'Hip', 'Gender', 'w2h_ratio', 'Shape')\n"
     ]
    },
    {
     "data": {
      "text/html": [
       "<table><tr><th>ID</th><th>Waist</th><th>Hip</th><th>Gender</th><th>w2h_ratio</th><th>Shape</th></tr><tr><td>1</td><td>30</td><td>32</td><td>M</td><td>0.9375</td><td>apple</td></tr><tr><td>2</td><td>32</td><td>37</td><td>M</td><td>0.864864864865</td><td>pear</td></tr><tr><td>3</td><td>30</td><td>36</td><td>M</td><td>0.833333333333</td><td>pear</td></tr><tr><td>4</td><td>33</td><td>39</td><td>M</td><td>0.846153846154</td><td>pear</td></tr><tr><td>5</td><td>29</td><td>33</td><td>M</td><td>0.878787878788</td><td>pear</td></tr><tr><td>6</td><td>32</td><td>38</td><td>M</td><td>0.842105263158</td><td>pear</td></tr><tr><td>7</td><td>33</td><td>42</td><td>M</td><td>0.785714285714</td><td>pear</td></tr><tr><td>8</td><td>30</td><td>40</td><td>M</td><td>0.75</td><td>pear</td></tr><tr><td>9</td><td>30</td><td>37</td><td>M</td><td>0.810810810811</td><td>pear</td></tr><tr><td>10</td><td>32</td><td>39</td><td>M</td><td>0.820512820513</td><td>pear</td></tr><tr><td>11</td><td>24</td><td>35</td><td>F</td><td>0.685714285714</td><td>pear</td></tr><tr><td>12</td><td>25</td><td>37</td><td>F</td><td>0.675675675676</td><td>pear</td></tr><tr><td>13</td><td>24</td><td>37</td><td>F</td><td>0.648648648649</td><td>pear</td></tr><tr><td>14</td><td>22</td><td>34</td><td>F</td><td>0.647058823529</td><td>pear</td></tr><tr><td>15</td><td>26</td><td>38</td><td>F</td><td>0.684210526316</td><td>pear</td></tr><tr><td>16</td><td>26</td><td>37</td><td>F</td><td>0.702702702703</td><td>pear</td></tr><tr><td>17</td><td>25</td><td>38</td><td>F</td><td>0.657894736842</td><td>pear</td></tr><tr><td>18</td><td>26</td><td>37</td><td>F</td><td>0.702702702703</td><td>pear</td></tr><tr><td>19</td><td>28</td><td>40</td><td>F</td><td>0.7</td><td>pear</td></tr><tr><td>20</td><td>23</td><td>35</td><td>F</td><td>0.657142857143</td><td>pear</td></tr>"
      ],
      "text/plain": [
       "<IPython.core.display.HTML object>"
      ]
     },
     "metadata": {},
     "output_type": "display_data"
    }
   ],
   "source": [
    "# Goal: pretty print the rows as an HTML table\n",
    "names=rows.dtype.names\n",
    "print(names)\n",
    "rows_list=[]\n",
    "for i in range(20):\n",
    "    my_dict=dict(zip(names,rows[i]))\n",
    "    rows_list.append(my_dict)\n",
    "\n",
    "\n",
    "# Note: this works, but we can do this much better with pandas\n",
    "html_table = '<table><tr><th>'\n",
    "html_table += \"</th><th>\".join(rows.dtype.names)\n",
    "html_table += '</th></tr>'\n",
    "for row in rows_list:\n",
    "    html_table += \"<tr><td>\"\n",
    "    html_table += \"</td><td>\".join(str(i) for i in row.values())\n",
    "    html_table += \"</td></tr>\"\n",
    "#html_table += \"</table>\"\n",
    "\n",
    "from IPython.display import HTML, display\n",
    "display(HTML(html_table))\n",
    "\n",
    "np.savetxt(\"StatsResults.csv\",rows,fmt='%s',delimiter=',',header=','.join(rows.dtype.names),comments=\"\")"
   ]
  },
  {
   "cell_type": "code",
   "execution_count": null,
   "metadata": {
    "collapsed": true
   },
   "outputs": [],
   "source": []
  },
  {
   "cell_type": "code",
   "execution_count": null,
   "metadata": {
    "collapsed": true
   },
   "outputs": [],
   "source": []
  }
 ],
 "metadata": {
  "kernelspec": {
   "display_name": "Python 3",
   "language": "python",
   "name": "python3"
  },
  "language_info": {
   "codemirror_mode": {
    "name": "ipython",
    "version": 3
   },
   "file_extension": ".py",
   "mimetype": "text/x-python",
   "name": "python",
   "nbconvert_exporter": "python",
   "pygments_lexer": "ipython3",
   "version": "3.6.1"
  }
 },
 "nbformat": 4,
 "nbformat_minor": 2
}
