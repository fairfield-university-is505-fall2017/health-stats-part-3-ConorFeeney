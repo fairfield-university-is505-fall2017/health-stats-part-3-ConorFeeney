{
 "cells": [
  {
   "cell_type": "markdown",
   "metadata": {},
   "source": [
    "# Health Stats Part 2: Waist 2 Hip Ratios"
   ]
  },
  {
   "cell_type": "markdown",
   "metadata": {},
   "source": [
    "<!--- Write an explanation of the Waist To Hips Ratio statistic used by health professionals. Please include an explanation of what it is used for, exactly how it is calculated, and how to interpret the results. Note: Formmatting matters. Make this as professional as you can using Markdown.  --->\n",
    "EDIT THIS MARKDOWN CELL"
   ]
  },
  {
   "cell_type": "markdown",
   "metadata": {},
   "source": [
    "## Source Data "
   ]
  },
  {
   "cell_type": "markdown",
   "metadata": {},
   "source": [
    "<!--- Replace the text below with a Markdown bullet list that defines the columns of the CSV file. Be sure to indicate the data type for each column. --->\n",
    "EDIT THIS MARKDOWN CELL"
   ]
  },
  {
   "cell_type": "markdown",
   "metadata": {},
   "source": [
    "## Data Import"
   ]
  },
  {
   "cell_type": "code",
   "execution_count": 60,
   "metadata": {
    "collapsed": true
   },
   "outputs": [],
   "source": [
    "# Goal: Extract the data from the file\n",
    "import numpy as np\n",
    "\n",
    "#Created using a recarray as it enables us to use the rows[:].ColumnName functionaility\n",
    "rows=np.recfromcsv('w2h_data.csv',dtype=(\"i8\",\"i8\",\"i8\",\"U5\"))\n",
    "#rows=np.genfromtxt('w2h_data.csv',delimiter=\",\",skip_header=1,dtype=[(\"ID\",\"i8\"),(\"Waist\",\"i8\"),(\"Hip\",\"i8\"),(\"Gender\",\"U10\")])\n",
    "# loads the file into a list of strings, one string per line dtype=[(\"ID\",\"i8\"),(\"Waist\",\"i8\"),(\"Hip\",\"i8\"),(\"Gender\",\"U10\")\n",
    "#rows[0:5][1]\n",
    "\n"
   ]
  },
  {
   "cell_type": "code",
   "execution_count": null,
   "metadata": {
    "collapsed": true
   },
   "outputs": [],
   "source": []
  },
  {
   "cell_type": "markdown",
   "metadata": {},
   "source": [
    "## Calculations"
   ]
  },
  {
   "cell_type": "code",
   "execution_count": 61,
   "metadata": {},
   "outputs": [
    {
     "data": {
      "text/plain": [
       "rec.array([( 1, 30, 32, 'M',  0.9375    , 'apple'),\n",
       "           ( 2, 32, 37, 'M',  0.86486486, 'pear'),\n",
       "           ( 3, 30, 36, 'M',  0.83333333, 'pear'),\n",
       "           ( 4, 33, 39, 'M',  0.84615385, 'pear'),\n",
       "           ( 5, 29, 33, 'M',  0.87878788, 'pear'),\n",
       "           ( 6, 32, 38, 'M',  0.84210526, 'pear'),\n",
       "           ( 7, 33, 42, 'M',  0.78571429, 'pear'),\n",
       "           ( 8, 30, 40, 'M',  0.75      , 'pear'),\n",
       "           ( 9, 30, 37, 'M',  0.81081081, 'pear'),\n",
       "           (10, 32, 39, 'M',  0.82051282, 'pear'),\n",
       "           (11, 24, 35, 'F',  0.68571429, 'pear'),\n",
       "           (12, 25, 37, 'F',  0.67567568, 'pear'),\n",
       "           (13, 24, 37, 'F',  0.64864865, 'pear'),\n",
       "           (14, 22, 34, 'F',  0.64705882, 'pear'),\n",
       "           (15, 26, 38, 'F',  0.68421053, 'pear'),\n",
       "           (16, 26, 37, 'F',  0.7027027 , 'pear'),\n",
       "           (17, 25, 38, 'F',  0.65789474, 'pear'),\n",
       "           (18, 26, 37, 'F',  0.7027027 , 'pear'),\n",
       "           (19, 28, 40, 'F',  0.7       , 'pear'),\n",
       "           (20, 23, 35, 'F',  0.65714286, 'pear')], \n",
       "          dtype=[('ID', '<i8'), ('Waist', '<i8'), ('Hip', '<i8'), ('Gender', '<U10'), ('w2h_ratio', '<f8'), ('Shape', '<U10')])"
      ]
     },
     "execution_count": 61,
     "metadata": {},
     "output_type": "execute_result"
    }
   ],
   "source": [
    "# Goal: For each row of data calculate and store the w2h_ratio and shape.\n",
    "#Create array for w2h_ratio\n",
    "w2h_ratio=np.rec.array(rows[:].waist/rows[:].hip,dtype=(\"f8\"))\n",
    "\n",
    "#Create the shape array using logical and and logical or\n",
    "shape=np.rec.array(np.logical_or(np.logical_and(w2h_ratio>0.9,rows[:].gender==\"M\"),np.logical_and(w2h_ratio>0.8,rows[:].gender==\"F\")))\n",
    "\n",
    "shape=np.where(shape,\"apple\",\"pear\")\n",
    "\n",
    "\n",
    "test=np.c_[rows[:].id,rows[:].waist,rows[:].hip,rows[:].gender,w2h_ratio,shape]\n",
    "\n",
    "\n",
    "#You can \"create a record array from a (flat) list of arrays\" using numpy.core.records.fromarrays\n",
    "rows=np.core.records.fromarrays(test.transpose(),names='ID, Waist, Hip, Gender, w2h_ratio, Shape',formats = 'i8, i8, i8, U10, f8, U10')\n",
    "#it considered each column (instead of each row) in the 2-D array as a record. So you have to transpose it.\n",
    "\n",
    "rows\n",
    "\n",
    "#w2h_ratio=np.rec.array(w2h_ratio,dtype=[(\"w2h_ratio\",float)])\n",
    "#test1=np.array([(test)],dtype=[(\"ID\",\"i8\"),(\"Waist\",\"i8\"),(\"Hip\",\"i8\"),(\"Gender\",\"U10\"),(\"w2h_ratio\",\"f8\"),(\"Shape\",\"U10\")])\n",
    "#shape=np.array(shape,dtype=[(\"shape\",\"U10\")])\n",
    "#test=np.column_stack([rows,shape1])\n",
    "#test\n"
   ]
  },
  {
   "cell_type": "markdown",
   "metadata": {},
   "source": [
    "## Output"
   ]
  },
  {
   "cell_type": "code",
   "execution_count": 73,
   "metadata": {},
   "outputs": [
    {
     "data": {
      "text/html": [
       "<table><tr><th>ID</th><th>Waist</th><th>Hip</th><th>Gender</th><th>w2h_ratio</th><th>Shape</th></tr><tr><td>(</td><td>1</td><td>,</td><td> </td><td>3</td><td>0</td><td>,</td><td> </td><td>3</td><td>2</td><td>,</td><td> </td><td>'</td><td>M</td><td>'</td><td>,</td><td> </td><td>0</td><td>.</td><td>9</td><td>3</td><td>7</td><td>5</td><td>,</td><td> </td><td>'</td><td>a</td><td>p</td><td>p</td><td>l</td><td>e</td><td>'</td><td>)</td></tr><tr><td>(</td><td>2</td><td>,</td><td> </td><td>3</td><td>2</td><td>,</td><td> </td><td>3</td><td>7</td><td>,</td><td> </td><td>'</td><td>M</td><td>'</td><td>,</td><td> </td><td>0</td><td>.</td><td>8</td><td>6</td><td>4</td><td>8</td><td>6</td><td>4</td><td>8</td><td>6</td><td>4</td><td>8</td><td>6</td><td>4</td><td>8</td><td>6</td><td>4</td><td>9</td><td>,</td><td> </td><td>'</td><td>p</td><td>e</td><td>a</td><td>r</td><td>'</td><td>)</td></tr><tr><td>(</td><td>3</td><td>,</td><td> </td><td>3</td><td>0</td><td>,</td><td> </td><td>3</td><td>6</td><td>,</td><td> </td><td>'</td><td>M</td><td>'</td><td>,</td><td> </td><td>0</td><td>.</td><td>8</td><td>3</td><td>3</td><td>3</td><td>3</td><td>3</td><td>3</td><td>3</td><td>3</td><td>3</td><td>3</td><td>3</td><td>3</td><td>3</td><td>3</td><td>4</td><td>,</td><td> </td><td>'</td><td>p</td><td>e</td><td>a</td><td>r</td><td>'</td><td>)</td></tr><tr><td>(</td><td>4</td><td>,</td><td> </td><td>3</td><td>3</td><td>,</td><td> </td><td>3</td><td>9</td><td>,</td><td> </td><td>'</td><td>M</td><td>'</td><td>,</td><td> </td><td>0</td><td>.</td><td>8</td><td>4</td><td>6</td><td>1</td><td>5</td><td>3</td><td>8</td><td>4</td><td>6</td><td>1</td><td>5</td><td>3</td><td>8</td><td>4</td><td>6</td><td>1</td><td>,</td><td> </td><td>'</td><td>p</td><td>e</td><td>a</td><td>r</td><td>'</td><td>)</td></tr><tr><td>(</td><td>5</td><td>,</td><td> </td><td>2</td><td>9</td><td>,</td><td> </td><td>3</td><td>3</td><td>,</td><td> </td><td>'</td><td>M</td><td>'</td><td>,</td><td> </td><td>0</td><td>.</td><td>8</td><td>7</td><td>8</td><td>7</td><td>8</td><td>7</td><td>8</td><td>7</td><td>8</td><td>7</td><td>8</td><td>7</td><td>8</td><td>7</td><td>8</td><td>8</td><td>,</td><td> </td><td>'</td><td>p</td><td>e</td><td>a</td><td>r</td><td>'</td><td>)</td></tr><tr><td>(</td><td>6</td><td>,</td><td> </td><td>3</td><td>2</td><td>,</td><td> </td><td>3</td><td>8</td><td>,</td><td> </td><td>'</td><td>M</td><td>'</td><td>,</td><td> </td><td>0</td><td>.</td><td>8</td><td>4</td><td>2</td><td>1</td><td>0</td><td>5</td><td>2</td><td>6</td><td>3</td><td>1</td><td>5</td><td>7</td><td>8</td><td>9</td><td>4</td><td>7</td><td>,</td><td> </td><td>'</td><td>p</td><td>e</td><td>a</td><td>r</td><td>'</td><td>)</td></tr><tr><td>(</td><td>7</td><td>,</td><td> </td><td>3</td><td>3</td><td>,</td><td> </td><td>4</td><td>2</td><td>,</td><td> </td><td>'</td><td>M</td><td>'</td><td>,</td><td> </td><td>0</td><td>.</td><td>7</td><td>8</td><td>5</td><td>7</td><td>1</td><td>4</td><td>2</td><td>8</td><td>5</td><td>7</td><td>1</td><td>4</td><td>2</td><td>8</td><td>5</td><td>7</td><td>,</td><td> </td><td>'</td><td>p</td><td>e</td><td>a</td><td>r</td><td>'</td><td>)</td></tr><tr><td>(</td><td>8</td><td>,</td><td> </td><td>3</td><td>0</td><td>,</td><td> </td><td>4</td><td>0</td><td>,</td><td> </td><td>'</td><td>M</td><td>'</td><td>,</td><td> </td><td>0</td><td>.</td><td>7</td><td>5</td><td>,</td><td> </td><td>'</td><td>p</td><td>e</td><td>a</td><td>r</td><td>'</td><td>)</td></tr><tr><td>(</td><td>9</td><td>,</td><td> </td><td>3</td><td>0</td><td>,</td><td> </td><td>3</td><td>7</td><td>,</td><td> </td><td>'</td><td>M</td><td>'</td><td>,</td><td> </td><td>0</td><td>.</td><td>8</td><td>1</td><td>0</td><td>8</td><td>1</td><td>0</td><td>8</td><td>1</td><td>0</td><td>8</td><td>1</td><td>0</td><td>8</td><td>1</td><td>0</td><td>9</td><td>,</td><td> </td><td>'</td><td>p</td><td>e</td><td>a</td><td>r</td><td>'</td><td>)</td></tr><tr><td>(</td><td>1</td><td>0</td><td>,</td><td> </td><td>3</td><td>2</td><td>,</td><td> </td><td>3</td><td>9</td><td>,</td><td> </td><td>'</td><td>M</td><td>'</td><td>,</td><td> </td><td>0</td><td>.</td><td>8</td><td>2</td><td>0</td><td>5</td><td>1</td><td>2</td><td>8</td><td>2</td><td>0</td><td>5</td><td>1</td><td>2</td><td>8</td><td>2</td><td>0</td><td>5</td><td>,</td><td> </td><td>'</td><td>p</td><td>e</td><td>a</td><td>r</td><td>'</td><td>)</td></tr><tr><td>(</td><td>1</td><td>1</td><td>,</td><td> </td><td>2</td><td>4</td><td>,</td><td> </td><td>3</td><td>5</td><td>,</td><td> </td><td>'</td><td>F</td><td>'</td><td>,</td><td> </td><td>0</td><td>.</td><td>6</td><td>8</td><td>5</td><td>7</td><td>1</td><td>4</td><td>2</td><td>8</td><td>5</td><td>7</td><td>1</td><td>4</td><td>2</td><td>8</td><td>5</td><td>7</td><td>,</td><td> </td><td>'</td><td>p</td><td>e</td><td>a</td><td>r</td><td>'</td><td>)</td></tr><tr><td>(</td><td>1</td><td>2</td><td>,</td><td> </td><td>2</td><td>5</td><td>,</td><td> </td><td>3</td><td>7</td><td>,</td><td> </td><td>'</td><td>F</td><td>'</td><td>,</td><td> </td><td>0</td><td>.</td><td>6</td><td>7</td><td>5</td><td>6</td><td>7</td><td>5</td><td>6</td><td>7</td><td>5</td><td>6</td><td>7</td><td>5</td><td>6</td><td>7</td><td>5</td><td>7</td><td>,</td><td> </td><td>'</td><td>p</td><td>e</td><td>a</td><td>r</td><td>'</td><td>)</td></tr><tr><td>(</td><td>1</td><td>3</td><td>,</td><td> </td><td>2</td><td>4</td><td>,</td><td> </td><td>3</td><td>7</td><td>,</td><td> </td><td>'</td><td>F</td><td>'</td><td>,</td><td> </td><td>0</td><td>.</td><td>6</td><td>4</td><td>8</td><td>6</td><td>4</td><td>8</td><td>6</td><td>4</td><td>8</td><td>6</td><td>4</td><td>8</td><td>6</td><td>4</td><td>8</td><td>7</td><td>,</td><td> </td><td>'</td><td>p</td><td>e</td><td>a</td><td>r</td><td>'</td><td>)</td></tr><tr><td>(</td><td>1</td><td>4</td><td>,</td><td> </td><td>2</td><td>2</td><td>,</td><td> </td><td>3</td><td>4</td><td>,</td><td> </td><td>'</td><td>F</td><td>'</td><td>,</td><td> </td><td>0</td><td>.</td><td>6</td><td>4</td><td>7</td><td>0</td><td>5</td><td>8</td><td>8</td><td>2</td><td>3</td><td>5</td><td>2</td><td>9</td><td>4</td><td>1</td><td>1</td><td>8</td><td>,</td><td> </td><td>'</td><td>p</td><td>e</td><td>a</td><td>r</td><td>'</td><td>)</td></tr><tr><td>(</td><td>1</td><td>5</td><td>,</td><td> </td><td>2</td><td>6</td><td>,</td><td> </td><td>3</td><td>8</td><td>,</td><td> </td><td>'</td><td>F</td><td>'</td><td>,</td><td> </td><td>0</td><td>.</td><td>6</td><td>8</td><td>4</td><td>2</td><td>1</td><td>0</td><td>5</td><td>2</td><td>6</td><td>3</td><td>1</td><td>5</td><td>7</td><td>8</td><td>9</td><td>5</td><td>,</td><td> </td><td>'</td><td>p</td><td>e</td><td>a</td><td>r</td><td>'</td><td>)</td></tr><tr><td>(</td><td>1</td><td>6</td><td>,</td><td> </td><td>2</td><td>6</td><td>,</td><td> </td><td>3</td><td>7</td><td>,</td><td> </td><td>'</td><td>F</td><td>'</td><td>,</td><td> </td><td>0</td><td>.</td><td>7</td><td>0</td><td>2</td><td>7</td><td>0</td><td>2</td><td>7</td><td>0</td><td>2</td><td>7</td><td>0</td><td>2</td><td>7</td><td>0</td><td>2</td><td>7</td><td>,</td><td> </td><td>'</td><td>p</td><td>e</td><td>a</td><td>r</td><td>'</td><td>)</td></tr><tr><td>(</td><td>1</td><td>7</td><td>,</td><td> </td><td>2</td><td>5</td><td>,</td><td> </td><td>3</td><td>8</td><td>,</td><td> </td><td>'</td><td>F</td><td>'</td><td>,</td><td> </td><td>0</td><td>.</td><td>6</td><td>5</td><td>7</td><td>8</td><td>9</td><td>4</td><td>7</td><td>3</td><td>6</td><td>8</td><td>4</td><td>2</td><td>1</td><td>0</td><td>5</td><td>3</td><td>,</td><td> </td><td>'</td><td>p</td><td>e</td><td>a</td><td>r</td><td>'</td><td>)</td></tr><tr><td>(</td><td>1</td><td>8</td><td>,</td><td> </td><td>2</td><td>6</td><td>,</td><td> </td><td>3</td><td>7</td><td>,</td><td> </td><td>'</td><td>F</td><td>'</td><td>,</td><td> </td><td>0</td><td>.</td><td>7</td><td>0</td><td>2</td><td>7</td><td>0</td><td>2</td><td>7</td><td>0</td><td>2</td><td>7</td><td>0</td><td>2</td><td>7</td><td>0</td><td>2</td><td>7</td><td>,</td><td> </td><td>'</td><td>p</td><td>e</td><td>a</td><td>r</td><td>'</td><td>)</td></tr><tr><td>(</td><td>1</td><td>9</td><td>,</td><td> </td><td>2</td><td>8</td><td>,</td><td> </td><td>4</td><td>0</td><td>,</td><td> </td><td>'</td><td>F</td><td>'</td><td>,</td><td> </td><td>0</td><td>.</td><td>7</td><td>,</td><td> </td><td>'</td><td>p</td><td>e</td><td>a</td><td>r</td><td>'</td><td>)</td></tr><tr><td>(</td><td>2</td><td>0</td><td>,</td><td> </td><td>2</td><td>3</td><td>,</td><td> </td><td>3</td><td>5</td><td>,</td><td> </td><td>'</td><td>F</td><td>'</td><td>,</td><td> </td><td>0</td><td>.</td><td>6</td><td>5</td><td>7</td><td>1</td><td>4</td><td>2</td><td>8</td><td>5</td><td>7</td><td>1</td><td>4</td><td>2</td><td>8</td><td>5</td><td>7</td><td>1</td><td>,</td><td> </td><td>'</td><td>p</td><td>e</td><td>a</td><td>r</td><td>'</td><td>)</td></tr></table>"
      ],
      "text/plain": [
       "<IPython.core.display.HTML object>"
      ]
     },
     "metadata": {},
     "output_type": "display_data"
    }
   ],
   "source": [
    "# Goal: pretty print the rows as an HTML table\n",
    "\n",
    "# Note: this works, but we can do this much better with pandas\n",
    "html_table = '<table><tr><th>'\n",
    "html_table += \"</th><th>\".join(rows.dtype.names)\n",
    "html_table += '</th></tr>'\n",
    "for i in range(20):\n",
    "    html_table += \"<tr><td>\"\n",
    "    html_table += \"</td><td>\".join(str(rows[i]))\n",
    "    html_table += \"</td></tr>\"\n",
    "html_table += \"</table>\"\n",
    "\n",
    "from IPython.display import HTML, display\n",
    "display(HTML(html_table))"
   ]
  },
  {
   "cell_type": "code",
   "execution_count": null,
   "metadata": {
    "collapsed": true
   },
   "outputs": [],
   "source": []
  }
 ],
 "metadata": {
  "kernelspec": {
   "display_name": "Python 3",
   "language": "python",
   "name": "python3"
  },
  "language_info": {
   "codemirror_mode": {
    "name": "ipython",
    "version": 3
   },
   "file_extension": ".py",
   "mimetype": "text/x-python",
   "name": "python",
   "nbconvert_exporter": "python",
   "pygments_lexer": "ipython3",
   "version": "3.6.1"
  }
 },
 "nbformat": 4,
 "nbformat_minor": 2
}
